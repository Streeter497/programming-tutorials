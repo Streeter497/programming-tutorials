{
 "cells": [
  {
   "cell_type": "markdown",
   "id": "2e31272c",
   "metadata": {},
   "source": [
    "# Programming Tutorial 1 - Bootcamp Day 3 SOLUTIONS"
   ]
  },
  {
   "cell_type": "code",
   "execution_count": 1,
   "id": "031f9845",
   "metadata": {},
   "outputs": [],
   "source": [
    "import numpy as np\n",
    "import matplotlib.pyplot as plt\n",
    "import pandas as pd\n",
    "\n",
    "%matplotlib inline"
   ]
  },
  {
   "cell_type": "markdown",
   "id": "39cf5b0f",
   "metadata": {},
   "source": [
    "## Task 1: Get your data\n",
    "\n",
    "* Look for a folder named *data* and you will find a csv file called *noaa_goes12_xrs_1m.csv*.\n",
    "* Download this csv file to your local computer.\n",
    "* Open this csv file in your programming language of choice."
   ]
  },
  {
   "cell_type": "code",
   "execution_count": 2,
   "id": "361a251c",
   "metadata": {},
   "outputs": [],
   "source": [
    "# This is the location of the local file for my computer\n",
    "data_file = './data/noaa_goes12_xrs_1m.csv'"
   ]
  },
  {
   "cell_type": "code",
   "execution_count": 3,
   "id": "11fa94c6",
   "metadata": {},
   "outputs": [],
   "source": [
    "df = pd.read_csv(data_file)"
   ]
  },
  {
   "cell_type": "markdown",
   "id": "11e9aeef",
   "metadata": {},
   "source": [
    "## Task 2: Data exploration\n",
    "\n",
    "* What are the three columns of data that you have?\n",
    "    * Answer: time, shortwave, longwave\n",
    "* What format is the first column in?\n",
    "    * Answer: year-month-dayThour-minute-second\n",
    "* What are the units of the second column? The third column?\n",
    "    * Answer: both are W/m^2\n",
    "* If you are working in Python, try creating a new column in a pandas dataframe where the time is converted to datetime. See: [here](https://pandas.pydata.org/docs/reference/api/pandas.to_datetime.html) for documentation on pandas datetime.\n",
    "* How many rows are there in this data?\n",
    "    * Answer: 10081\n",
    "* Are there any NaNs?\n",
    "    * Answer: No rows are labeled as NaN, but keep reading!"
   ]
  },
  {
   "cell_type": "code",
   "execution_count": 4,
   "id": "a50ea9e7",
   "metadata": {},
   "outputs": [
    {
     "data": {
      "text/html": [
       "<div>\n",
       "<style scoped>\n",
       "    .dataframe tbody tr th:only-of-type {\n",
       "        vertical-align: middle;\n",
       "    }\n",
       "\n",
       "    .dataframe tbody tr th {\n",
       "        vertical-align: top;\n",
       "    }\n",
       "\n",
       "    .dataframe thead th {\n",
       "        text-align: right;\n",
       "    }\n",
       "</style>\n",
       "<table border=\"1\" class=\"dataframe\">\n",
       "  <thead>\n",
       "    <tr style=\"text-align: right;\">\n",
       "      <th></th>\n",
       "      <th>time (yyyy-MM-dd'T'HH:mm:ss)</th>\n",
       "      <th>shortwave (W/m^2)</th>\n",
       "      <th>longwave (W/m^2)</th>\n",
       "    </tr>\n",
       "  </thead>\n",
       "  <tbody>\n",
       "    <tr>\n",
       "      <th>0</th>\n",
       "      <td>2003-10-24T00:00:00</td>\n",
       "      <td>2.630000e-07</td>\n",
       "      <td>0.000005</td>\n",
       "    </tr>\n",
       "    <tr>\n",
       "      <th>1</th>\n",
       "      <td>2003-10-24T00:01:00</td>\n",
       "      <td>2.500000e-07</td>\n",
       "      <td>0.000005</td>\n",
       "    </tr>\n",
       "    <tr>\n",
       "      <th>2</th>\n",
       "      <td>2003-10-24T00:02:00</td>\n",
       "      <td>2.440000e-07</td>\n",
       "      <td>0.000005</td>\n",
       "    </tr>\n",
       "    <tr>\n",
       "      <th>3</th>\n",
       "      <td>2003-10-24T00:03:00</td>\n",
       "      <td>2.400000e-07</td>\n",
       "      <td>0.000005</td>\n",
       "    </tr>\n",
       "    <tr>\n",
       "      <th>4</th>\n",
       "      <td>2003-10-24T00:04:00</td>\n",
       "      <td>2.370000e-07</td>\n",
       "      <td>0.000005</td>\n",
       "    </tr>\n",
       "  </tbody>\n",
       "</table>\n",
       "</div>"
      ],
      "text/plain": [
       "  time (yyyy-MM-dd'T'HH:mm:ss)  shortwave (W/m^2)  longwave (W/m^2)\n",
       "0          2003-10-24T00:00:00       2.630000e-07          0.000005\n",
       "1          2003-10-24T00:01:00       2.500000e-07          0.000005\n",
       "2          2003-10-24T00:02:00       2.440000e-07          0.000005\n",
       "3          2003-10-24T00:03:00       2.400000e-07          0.000005\n",
       "4          2003-10-24T00:04:00       2.370000e-07          0.000005"
      ]
     },
     "execution_count": 4,
     "metadata": {},
     "output_type": "execute_result"
    }
   ],
   "source": [
    "# Use head to show the column names\n",
    "df.head(5)"
   ]
  },
  {
   "cell_type": "code",
   "execution_count": 5,
   "id": "b2df7056",
   "metadata": {},
   "outputs": [
    {
     "data": {
      "text/plain": [
       "Index(['time (yyyy-MM-dd'T'HH:mm:ss)', 'shortwave (W/m^2)',\n",
       "       'longwave (W/m^2)'],\n",
       "      dtype='object')"
      ]
     },
     "execution_count": 5,
     "metadata": {},
     "output_type": "execute_result"
    }
   ],
   "source": [
    "# Or use columns to get a list. The units are in parentheses.\n",
    "df.columns"
   ]
  },
  {
   "cell_type": "code",
   "execution_count": 6,
   "id": "6182b8f4",
   "metadata": {},
   "outputs": [],
   "source": [
    "# To convert to datetime, use to_datetime on the time column\n",
    "df['datetime'] = pd.to_datetime(df['time (yyyy-MM-dd\\'T\\'HH:mm:ss)'])"
   ]
  },
  {
   "cell_type": "code",
   "execution_count": 7,
   "id": "9142ce87",
   "metadata": {},
   "outputs": [
    {
     "data": {
      "text/html": [
       "<div>\n",
       "<style scoped>\n",
       "    .dataframe tbody tr th:only-of-type {\n",
       "        vertical-align: middle;\n",
       "    }\n",
       "\n",
       "    .dataframe tbody tr th {\n",
       "        vertical-align: top;\n",
       "    }\n",
       "\n",
       "    .dataframe thead th {\n",
       "        text-align: right;\n",
       "    }\n",
       "</style>\n",
       "<table border=\"1\" class=\"dataframe\">\n",
       "  <thead>\n",
       "    <tr style=\"text-align: right;\">\n",
       "      <th></th>\n",
       "      <th>time (yyyy-MM-dd'T'HH:mm:ss)</th>\n",
       "      <th>shortwave (W/m^2)</th>\n",
       "      <th>longwave (W/m^2)</th>\n",
       "      <th>datetime</th>\n",
       "    </tr>\n",
       "  </thead>\n",
       "  <tbody>\n",
       "    <tr>\n",
       "      <th>0</th>\n",
       "      <td>2003-10-24T00:00:00</td>\n",
       "      <td>2.630000e-07</td>\n",
       "      <td>0.000005</td>\n",
       "      <td>2003-10-24 00:00:00</td>\n",
       "    </tr>\n",
       "    <tr>\n",
       "      <th>1</th>\n",
       "      <td>2003-10-24T00:01:00</td>\n",
       "      <td>2.500000e-07</td>\n",
       "      <td>0.000005</td>\n",
       "      <td>2003-10-24 00:01:00</td>\n",
       "    </tr>\n",
       "    <tr>\n",
       "      <th>2</th>\n",
       "      <td>2003-10-24T00:02:00</td>\n",
       "      <td>2.440000e-07</td>\n",
       "      <td>0.000005</td>\n",
       "      <td>2003-10-24 00:02:00</td>\n",
       "    </tr>\n",
       "    <tr>\n",
       "      <th>3</th>\n",
       "      <td>2003-10-24T00:03:00</td>\n",
       "      <td>2.400000e-07</td>\n",
       "      <td>0.000005</td>\n",
       "      <td>2003-10-24 00:03:00</td>\n",
       "    </tr>\n",
       "    <tr>\n",
       "      <th>4</th>\n",
       "      <td>2003-10-24T00:04:00</td>\n",
       "      <td>2.370000e-07</td>\n",
       "      <td>0.000005</td>\n",
       "      <td>2003-10-24 00:04:00</td>\n",
       "    </tr>\n",
       "  </tbody>\n",
       "</table>\n",
       "</div>"
      ],
      "text/plain": [
       "  time (yyyy-MM-dd'T'HH:mm:ss)  shortwave (W/m^2)  longwave (W/m^2)  \\\n",
       "0          2003-10-24T00:00:00       2.630000e-07          0.000005   \n",
       "1          2003-10-24T00:01:00       2.500000e-07          0.000005   \n",
       "2          2003-10-24T00:02:00       2.440000e-07          0.000005   \n",
       "3          2003-10-24T00:03:00       2.400000e-07          0.000005   \n",
       "4          2003-10-24T00:04:00       2.370000e-07          0.000005   \n",
       "\n",
       "             datetime  \n",
       "0 2003-10-24 00:00:00  \n",
       "1 2003-10-24 00:01:00  \n",
       "2 2003-10-24 00:02:00  \n",
       "3 2003-10-24 00:03:00  \n",
       "4 2003-10-24 00:04:00  "
      ]
     },
     "execution_count": 7,
     "metadata": {},
     "output_type": "execute_result"
    }
   ],
   "source": [
    "# Use head to make sure your new column is there\n",
    "df.head()"
   ]
  },
  {
   "cell_type": "code",
   "execution_count": 8,
   "id": "4dd6f31e",
   "metadata": {},
   "outputs": [
    {
     "data": {
      "text/plain": [
       "<bound method NDFrame.describe of       time (yyyy-MM-dd'T'HH:mm:ss)  shortwave (W/m^2)  longwave (W/m^2)  \\\n",
       "0              2003-10-24T00:00:00       2.630000e-07          0.000005   \n",
       "1              2003-10-24T00:01:00       2.500000e-07          0.000005   \n",
       "2              2003-10-24T00:02:00       2.440000e-07          0.000005   \n",
       "3              2003-10-24T00:03:00       2.400000e-07          0.000005   \n",
       "4              2003-10-24T00:04:00       2.370000e-07          0.000005   \n",
       "...                            ...                ...               ...   \n",
       "10076          2003-10-30T23:56:00       1.410000e-07          0.000003   \n",
       "10077          2003-10-30T23:57:00       1.440000e-07          0.000003   \n",
       "10078          2003-10-30T23:58:00       1.420000e-07          0.000003   \n",
       "10079          2003-10-30T23:59:00       1.410000e-07          0.000003   \n",
       "10080          2003-10-31T00:00:00       1.450000e-07          0.000003   \n",
       "\n",
       "                 datetime  \n",
       "0     2003-10-24 00:00:00  \n",
       "1     2003-10-24 00:01:00  \n",
       "2     2003-10-24 00:02:00  \n",
       "3     2003-10-24 00:03:00  \n",
       "4     2003-10-24 00:04:00  \n",
       "...                   ...  \n",
       "10076 2003-10-30 23:56:00  \n",
       "10077 2003-10-30 23:57:00  \n",
       "10078 2003-10-30 23:58:00  \n",
       "10079 2003-10-30 23:59:00  \n",
       "10080 2003-10-31 00:00:00  \n",
       "\n",
       "[10081 rows x 4 columns]>"
      ]
     },
     "execution_count": 8,
     "metadata": {},
     "output_type": "execute_result"
    }
   ],
   "source": [
    "# You can use describe to show the number of rows\n",
    "df.describe"
   ]
  },
  {
   "cell_type": "code",
   "execution_count": 9,
   "id": "26ba7326",
   "metadata": {},
   "outputs": [
    {
     "data": {
      "text/plain": [
       "10081"
      ]
     },
     "execution_count": 9,
     "metadata": {},
     "output_type": "execute_result"
    }
   ],
   "source": [
    "# Or use shape[0] to show the number of rows. shape[1] shows the number of columns.\n",
    "df.shape[0]"
   ]
  },
  {
   "cell_type": "code",
   "execution_count": 10,
   "id": "3243a311",
   "metadata": {},
   "outputs": [
    {
     "data": {
      "text/plain": [
       "time (yyyy-MM-dd'T'HH:mm:ss)    0\n",
       "shortwave (W/m^2)               0\n",
       "longwave (W/m^2)                0\n",
       "datetime                        0\n",
       "dtype: int64"
      ]
     },
     "execution_count": 10,
     "metadata": {},
     "output_type": "execute_result"
    }
   ],
   "source": [
    "# Use isna().sum() to see if there are any NaNs. Zero means there are no NaNs.\n",
    "df.isna().sum()"
   ]
  },
  {
   "cell_type": "markdown",
   "id": "815b1860",
   "metadata": {},
   "source": [
    "## Task 3: Basic calculations\n",
    "\n",
    "* Find the maximum and minimum shortwave values.\n",
    "    * Answer: max 0.000488, min 2.27e-08\n",
    "* Find the maximum and minimum longwave values.\n",
    "    * Answer: max 0.00172, min 1.3e-06\n",
    "* On what date do the data start?\n",
    "    * Answer: October 24, 2003\n",
    "* On what date do the data end?\n",
    "    * Answer: October 31, 2003"
   ]
  },
  {
   "cell_type": "code",
   "execution_count": 11,
   "id": "aa1b2692",
   "metadata": {},
   "outputs": [
    {
     "name": "stdout",
     "output_type": "stream",
     "text": [
      "shortwave min: -100000.0\n",
      "shortwave max: 0.000488\n",
      "longwave min: -100000.0\n",
      "longwave max: 0.00172\n"
     ]
    }
   ],
   "source": [
    "print(f\"shortwave min: {df['shortwave (W/m^2)'].min()}\")\n",
    "print(f\"shortwave max: {df['shortwave (W/m^2)'].max()}\")\n",
    "print(f\"longwave min: {df['longwave (W/m^2)'].min()}\")\n",
    "print(f\"longwave max: {df['longwave (W/m^2)'].max()}\")"
   ]
  },
  {
   "cell_type": "markdown",
   "id": "3b1df2f9",
   "metadata": {},
   "source": [
    "Now you should notice something funky is going on with the min values. -100000.0 seems to be a filler for missing data. Let's [drop the rows](https://www.statology.org/pandas-drop-rows-with-value/) that have that value."
   ]
  },
  {
   "cell_type": "code",
   "execution_count": 12,
   "id": "7a09fd17",
   "metadata": {},
   "outputs": [],
   "source": [
    "df = df[df['shortwave (W/m^2)'] != -100000.0]\n",
    "df = df[df['longwave (W/m^2)'] != -100000.0]"
   ]
  },
  {
   "cell_type": "markdown",
   "id": "b9766cbf",
   "metadata": {},
   "source": [
    "Now let's try again!"
   ]
  },
  {
   "cell_type": "code",
   "execution_count": 13,
   "id": "f6e5e8e1",
   "metadata": {},
   "outputs": [
    {
     "name": "stdout",
     "output_type": "stream",
     "text": [
      "shortwave min: 2.27e-08\n",
      "shortwave max: 0.000488\n",
      "longwave min: 1.3e-06\n",
      "longwave max: 0.00172\n"
     ]
    }
   ],
   "source": [
    "print(f\"shortwave min: {df['shortwave (W/m^2)'].min()}\")\n",
    "print(f\"shortwave max: {df['shortwave (W/m^2)'].max()}\")\n",
    "print(f\"longwave min: {df['longwave (W/m^2)'].min()}\")\n",
    "print(f\"longwave max: {df['longwave (W/m^2)'].max()}\")"
   ]
  },
  {
   "cell_type": "code",
   "execution_count": 14,
   "id": "55d6643e",
   "metadata": {},
   "outputs": [
    {
     "data": {
      "text/plain": [
       "'2003-10-24T00:00:00'"
      ]
     },
     "execution_count": 14,
     "metadata": {},
     "output_type": "execute_result"
    }
   ],
   "source": [
    "df['time (yyyy-MM-dd\\'T\\'HH:mm:ss)'].min()"
   ]
  },
  {
   "cell_type": "code",
   "execution_count": 15,
   "id": "3f698b05",
   "metadata": {},
   "outputs": [
    {
     "data": {
      "text/plain": [
       "'2003-10-31T00:00:00'"
      ]
     },
     "execution_count": 15,
     "metadata": {},
     "output_type": "execute_result"
    }
   ],
   "source": [
    "df['time (yyyy-MM-dd\\'T\\'HH:mm:ss)'].max()"
   ]
  },
  {
   "cell_type": "markdown",
   "id": "a741d45c",
   "metadata": {},
   "source": [
    "## Task 4: Write a function\n",
    "\n",
    "* Write a function that returns the average of the longwave and shortwave values for a single row. The inputs should be the longwave and shortwave values, the output should be the average.\n",
    "* Make a new array (or Pandas dataframe column) that contains the average value calculated above for each row in the dataset."
   ]
  },
  {
   "cell_type": "code",
   "execution_count": 16,
   "id": "4f25580c",
   "metadata": {},
   "outputs": [],
   "source": [
    "def average_longwave_shortwave(longwave, shortwave):\n",
    "    return (longwave + shortwave)/2."
   ]
  },
  {
   "cell_type": "code",
   "execution_count": 17,
   "id": "743bfee4",
   "metadata": {},
   "outputs": [],
   "source": [
    "df['avg'] = average_longwave_shortwave(df['longwave (W/m^2)'], df['shortwave (W/m^2)'])"
   ]
  },
  {
   "cell_type": "code",
   "execution_count": 18,
   "id": "34766e22",
   "metadata": {},
   "outputs": [
    {
     "data": {
      "text/html": [
       "<div>\n",
       "<style scoped>\n",
       "    .dataframe tbody tr th:only-of-type {\n",
       "        vertical-align: middle;\n",
       "    }\n",
       "\n",
       "    .dataframe tbody tr th {\n",
       "        vertical-align: top;\n",
       "    }\n",
       "\n",
       "    .dataframe thead th {\n",
       "        text-align: right;\n",
       "    }\n",
       "</style>\n",
       "<table border=\"1\" class=\"dataframe\">\n",
       "  <thead>\n",
       "    <tr style=\"text-align: right;\">\n",
       "      <th></th>\n",
       "      <th>time (yyyy-MM-dd'T'HH:mm:ss)</th>\n",
       "      <th>shortwave (W/m^2)</th>\n",
       "      <th>longwave (W/m^2)</th>\n",
       "      <th>datetime</th>\n",
       "      <th>avg</th>\n",
       "    </tr>\n",
       "  </thead>\n",
       "  <tbody>\n",
       "    <tr>\n",
       "      <th>0</th>\n",
       "      <td>2003-10-24T00:00:00</td>\n",
       "      <td>2.630000e-07</td>\n",
       "      <td>0.000005</td>\n",
       "      <td>2003-10-24 00:00:00</td>\n",
       "      <td>0.000003</td>\n",
       "    </tr>\n",
       "    <tr>\n",
       "      <th>1</th>\n",
       "      <td>2003-10-24T00:01:00</td>\n",
       "      <td>2.500000e-07</td>\n",
       "      <td>0.000005</td>\n",
       "      <td>2003-10-24 00:01:00</td>\n",
       "      <td>0.000003</td>\n",
       "    </tr>\n",
       "    <tr>\n",
       "      <th>2</th>\n",
       "      <td>2003-10-24T00:02:00</td>\n",
       "      <td>2.440000e-07</td>\n",
       "      <td>0.000005</td>\n",
       "      <td>2003-10-24 00:02:00</td>\n",
       "      <td>0.000002</td>\n",
       "    </tr>\n",
       "    <tr>\n",
       "      <th>3</th>\n",
       "      <td>2003-10-24T00:03:00</td>\n",
       "      <td>2.400000e-07</td>\n",
       "      <td>0.000005</td>\n",
       "      <td>2003-10-24 00:03:00</td>\n",
       "      <td>0.000002</td>\n",
       "    </tr>\n",
       "    <tr>\n",
       "      <th>4</th>\n",
       "      <td>2003-10-24T00:04:00</td>\n",
       "      <td>2.370000e-07</td>\n",
       "      <td>0.000005</td>\n",
       "      <td>2003-10-24 00:04:00</td>\n",
       "      <td>0.000002</td>\n",
       "    </tr>\n",
       "  </tbody>\n",
       "</table>\n",
       "</div>"
      ],
      "text/plain": [
       "  time (yyyy-MM-dd'T'HH:mm:ss)  shortwave (W/m^2)  longwave (W/m^2)  \\\n",
       "0          2003-10-24T00:00:00       2.630000e-07          0.000005   \n",
       "1          2003-10-24T00:01:00       2.500000e-07          0.000005   \n",
       "2          2003-10-24T00:02:00       2.440000e-07          0.000005   \n",
       "3          2003-10-24T00:03:00       2.400000e-07          0.000005   \n",
       "4          2003-10-24T00:04:00       2.370000e-07          0.000005   \n",
       "\n",
       "             datetime       avg  \n",
       "0 2003-10-24 00:00:00  0.000003  \n",
       "1 2003-10-24 00:01:00  0.000003  \n",
       "2 2003-10-24 00:02:00  0.000002  \n",
       "3 2003-10-24 00:03:00  0.000002  \n",
       "4 2003-10-24 00:04:00  0.000002  "
      ]
     },
     "execution_count": 18,
     "metadata": {},
     "output_type": "execute_result"
    }
   ],
   "source": [
    "df.head()"
   ]
  },
  {
   "cell_type": "markdown",
   "id": "5b28c92d",
   "metadata": {},
   "source": [
    "## Task 5: Plotting\n",
    "\n",
    "* Plot the time (or datetime) values on the x-axis and shortwave values on the y-axis.\n",
    "\t* Add axis labels to your plot (including units!) and a title.\n",
    "* Plot the time (or datetime) values on the x-axis and longwave values on the y-axis.\n",
    "        * Add axis labels to your plot (including units!) and a title.\n",
    "* Plot the time (or datetime) values on the x-axis and average of shortwave and longwave values from Task 4 on the y-axis.\n",
    "        * Add axis labels to your plot (including units!) and a title."
   ]
  },
  {
   "cell_type": "code",
   "execution_count": 19,
   "id": "87b58b09",
   "metadata": {},
   "outputs": [
    {
     "data": {
      "text/plain": [
       "<AxesSubplot:title={'center':'Shortwave over time'}, xlabel='datetime'>"
      ]
     },
     "execution_count": 19,
     "metadata": {},
     "output_type": "execute_result"
    },
    {
     "data": {
      "image/png": "[encoded data removed]",
      "text/plain": [
       "<Figure size 432x288 with 1 Axes>"
      ]
     },
     "metadata": {
      "needs_background": "light"
     },
     "output_type": "display_data"
    }
   ],
   "source": [
    "df.plot('datetime', 'shortwave (W/m^2)', title='Shortwave over time')"
   ]
  },
  {
   "cell_type": "code",
   "execution_count": 20,
   "id": "24e1243b",
   "metadata": {},
   "outputs": [
    {
     "data": {
      "text/plain": [
       "<AxesSubplot:title={'center':'Longwave over time'}, xlabel='datetime'>"
      ]
     },
     "execution_count": 20,
     "metadata": {},
     "output_type": "execute_result"
    },
    {
     "data": {
      "image/png": "[encoded data removed]",
      "text/plain": [
       "<Figure size 432x288 with 1 Axes>"
      ]
     },
     "metadata": {
      "needs_background": "light"
     },
     "output_type": "display_data"
    }
   ],
   "source": [
    "df.plot('datetime', 'longwave (W/m^2)', title='Longwave over time', color='orange')"
   ]
  },
  {
   "cell_type": "code",
   "execution_count": 21,
   "id": "6b6f02d8",
   "metadata": {},
   "outputs": [
    {
     "data": {
      "text/plain": [
       "<AxesSubplot:title={'center':'Average over time'}, xlabel='datetime', ylabel='Average (W/m^2)'>"
      ]
     },
     "execution_count": 21,
     "metadata": {},
     "output_type": "execute_result"
    },
    {
     "data": {
      "image/png": "[encoded data removed]",
      "text/plain": [
       "<Figure size 432x288 with 1 Axes>"
      ]
     },
     "metadata": {
      "needs_background": "light"
     },
     "output_type": "display_data"
    }
   ],
   "source": [
    "df.plot('datetime', 'avg', ylabel='Average (W/m^2)', title='Average over time', color='green')"
   ]
  },
  {
   "cell_type": "code",
   "execution_count": 22,
   "id": "7ac08cad",
   "metadata": {},
   "outputs": [
    {
     "data": {
      "text/plain": [
       "<AxesSubplot:xlabel='datetime'>"
      ]
     },
     "execution_count": 22,
     "metadata": {},
     "output_type": "execute_result"
    },
    {
     "data": {
      "image/png": "[encoded data removed]",
      "text/plain": [
       "<Figure size 432x288 with 1 Axes>"
      ]
     },
     "metadata": {
      "needs_background": "light"
     },
     "output_type": "display_data"
    }
   ],
   "source": [
    "df.plot('datetime', ['shortwave (W/m^2)', 'longwave (W/m^2)', 'avg'])"
   ]
  },
  {
   "cell_type": "code",
   "execution_count": null,
   "id": "58eb3b9a",
   "metadata": {},
   "outputs": [],
   "source": []
  }
 ],
 "metadata": {
  "kernelspec": {
   "display_name": "Python 3",
   "language": "python",
   "name": "python3"
  },
  "language_info": {
   "codemirror_mode": {
    "name": "ipython",
    "version": 3
   },
   "file_extension": ".py",
   "mimetype": "text/x-python",
   "name": "python",
   "nbconvert_exporter": "python",
   "pygments_lexer": "ipython3",
   "version": "3.8.8"
  }
 },
 "nbformat": 4,
 "nbformat_minor": 5
}
